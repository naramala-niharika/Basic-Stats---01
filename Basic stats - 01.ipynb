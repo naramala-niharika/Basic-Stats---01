{
 "cells": [
  {
   "cell_type": "code",
   "execution_count": 3,
   "id": "f09b0c4a",
   "metadata": {},
   "outputs": [],
   "source": [
    "import pandas as pd\n",
    "import matplotlib.pyplot as plt\n",
    "import seaborn as sns"
   ]
  },
  {
   "cell_type": "code",
   "execution_count": 4,
   "id": "0e6161ed",
   "metadata": {},
   "outputs": [],
   "source": [
    "df = pd.read_csv('sales_data_with_discounts.csv')"
   ]
  },
  {
   "cell_type": "code",
   "execution_count": 5,
   "id": "5a888a55",
   "metadata": {},
   "outputs": [
    {
     "name": "stdout",
     "output_type": "stream",
     "text": [
      "<class 'pandas.core.frame.DataFrame'>\n",
      "RangeIndex: 450 entries, 0 to 449\n",
      "Data columns (total 13 columns):\n",
      " #   Column             Non-Null Count  Dtype  \n",
      "---  ------             --------------  -----  \n",
      " 0   Date               450 non-null    object \n",
      " 1   Day                450 non-null    object \n",
      " 2   SKU                450 non-null    object \n",
      " 3   City               450 non-null    object \n",
      " 4   Volume             450 non-null    int64  \n",
      " 5   BU                 450 non-null    object \n",
      " 6   Brand              450 non-null    object \n",
      " 7   Model              450 non-null    object \n",
      " 8   Avg Price          450 non-null    int64  \n",
      " 9   Total Sales Value  450 non-null    int64  \n",
      " 10  Discount Rate (%)  450 non-null    float64\n",
      " 11  Discount Amount    450 non-null    float64\n",
      " 12  Net Sales Value    450 non-null    float64\n",
      "dtypes: float64(3), int64(3), object(7)\n",
      "memory usage: 45.8+ KB\n"
     ]
    }
   ],
   "source": [
    "df.info()"
   ]
  },
  {
   "cell_type": "code",
   "execution_count": 6,
   "id": "867aa646",
   "metadata": {},
   "outputs": [
    {
     "data": {
      "text/html": [
       "<div>\n",
       "<style scoped>\n",
       "    .dataframe tbody tr th:only-of-type {\n",
       "        vertical-align: middle;\n",
       "    }\n",
       "\n",
       "    .dataframe tbody tr th {\n",
       "        vertical-align: top;\n",
       "    }\n",
       "\n",
       "    .dataframe thead th {\n",
       "        text-align: right;\n",
       "    }\n",
       "</style>\n",
       "<table border=\"1\" class=\"dataframe\">\n",
       "  <thead>\n",
       "    <tr style=\"text-align: right;\">\n",
       "      <th></th>\n",
       "      <th>Date</th>\n",
       "      <th>Day</th>\n",
       "      <th>SKU</th>\n",
       "      <th>City</th>\n",
       "      <th>Volume</th>\n",
       "      <th>BU</th>\n",
       "      <th>Brand</th>\n",
       "      <th>Model</th>\n",
       "      <th>Avg Price</th>\n",
       "      <th>Total Sales Value</th>\n",
       "      <th>Discount Rate (%)</th>\n",
       "      <th>Discount Amount</th>\n",
       "      <th>Net Sales Value</th>\n",
       "    </tr>\n",
       "  </thead>\n",
       "  <tbody>\n",
       "    <tr>\n",
       "      <th>0</th>\n",
       "      <td>01-04-2021</td>\n",
       "      <td>Thursday</td>\n",
       "      <td>M01</td>\n",
       "      <td>C</td>\n",
       "      <td>15</td>\n",
       "      <td>Mobiles</td>\n",
       "      <td>RealU</td>\n",
       "      <td>RU-10</td>\n",
       "      <td>12100</td>\n",
       "      <td>181500</td>\n",
       "      <td>11.654820</td>\n",
       "      <td>21153.498820</td>\n",
       "      <td>160346.501180</td>\n",
       "    </tr>\n",
       "    <tr>\n",
       "      <th>1</th>\n",
       "      <td>01-04-2021</td>\n",
       "      <td>Thursday</td>\n",
       "      <td>M02</td>\n",
       "      <td>C</td>\n",
       "      <td>10</td>\n",
       "      <td>Mobiles</td>\n",
       "      <td>RealU</td>\n",
       "      <td>RU-9 Plus</td>\n",
       "      <td>10100</td>\n",
       "      <td>101000</td>\n",
       "      <td>11.560498</td>\n",
       "      <td>11676.102961</td>\n",
       "      <td>89323.897039</td>\n",
       "    </tr>\n",
       "    <tr>\n",
       "      <th>2</th>\n",
       "      <td>01-04-2021</td>\n",
       "      <td>Thursday</td>\n",
       "      <td>M03</td>\n",
       "      <td>C</td>\n",
       "      <td>7</td>\n",
       "      <td>Mobiles</td>\n",
       "      <td>YouM</td>\n",
       "      <td>YM-99</td>\n",
       "      <td>16100</td>\n",
       "      <td>112700</td>\n",
       "      <td>9.456886</td>\n",
       "      <td>10657.910157</td>\n",
       "      <td>102042.089843</td>\n",
       "    </tr>\n",
       "    <tr>\n",
       "      <th>3</th>\n",
       "      <td>01-04-2021</td>\n",
       "      <td>Thursday</td>\n",
       "      <td>M04</td>\n",
       "      <td>C</td>\n",
       "      <td>6</td>\n",
       "      <td>Mobiles</td>\n",
       "      <td>YouM</td>\n",
       "      <td>YM-99 Plus</td>\n",
       "      <td>20100</td>\n",
       "      <td>120600</td>\n",
       "      <td>6.935385</td>\n",
       "      <td>8364.074702</td>\n",
       "      <td>112235.925298</td>\n",
       "    </tr>\n",
       "    <tr>\n",
       "      <th>4</th>\n",
       "      <td>01-04-2021</td>\n",
       "      <td>Thursday</td>\n",
       "      <td>M05</td>\n",
       "      <td>C</td>\n",
       "      <td>3</td>\n",
       "      <td>Mobiles</td>\n",
       "      <td>YouM</td>\n",
       "      <td>YM-98</td>\n",
       "      <td>8100</td>\n",
       "      <td>24300</td>\n",
       "      <td>17.995663</td>\n",
       "      <td>4372.946230</td>\n",
       "      <td>19927.053770</td>\n",
       "    </tr>\n",
       "  </tbody>\n",
       "</table>\n",
       "</div>"
      ],
      "text/plain": [
       "         Date       Day  SKU City  Volume       BU  Brand       Model  \\\n",
       "0  01-04-2021  Thursday  M01    C      15  Mobiles  RealU       RU-10   \n",
       "1  01-04-2021  Thursday  M02    C      10  Mobiles  RealU   RU-9 Plus   \n",
       "2  01-04-2021  Thursday  M03    C       7  Mobiles   YouM       YM-99   \n",
       "3  01-04-2021  Thursday  M04    C       6  Mobiles   YouM  YM-99 Plus   \n",
       "4  01-04-2021  Thursday  M05    C       3  Mobiles   YouM      YM-98    \n",
       "\n",
       "   Avg Price  Total Sales Value  Discount Rate (%)  Discount Amount  \\\n",
       "0      12100             181500          11.654820     21153.498820   \n",
       "1      10100             101000          11.560498     11676.102961   \n",
       "2      16100             112700           9.456886     10657.910157   \n",
       "3      20100             120600           6.935385      8364.074702   \n",
       "4       8100              24300          17.995663      4372.946230   \n",
       "\n",
       "   Net Sales Value  \n",
       "0    160346.501180  \n",
       "1     89323.897039  \n",
       "2    102042.089843  \n",
       "3    112235.925298  \n",
       "4     19927.053770  "
      ]
     },
     "execution_count": 6,
     "metadata": {},
     "output_type": "execute_result"
    }
   ],
   "source": [
    "df.head()"
   ]
  },
  {
   "cell_type": "code",
   "execution_count": 7,
   "id": "05388720",
   "metadata": {},
   "outputs": [
    {
     "data": {
      "text/plain": [
       "(450, 13)"
      ]
     },
     "execution_count": 7,
     "metadata": {},
     "output_type": "execute_result"
    }
   ],
   "source": [
    "df.shape"
   ]
  },
  {
   "cell_type": "code",
   "execution_count": 8,
   "id": "764d7553",
   "metadata": {},
   "outputs": [
    {
     "data": {
      "text/plain": [
       "Index(['Date', 'Day', 'SKU', 'City', 'Volume', 'BU', 'Brand', 'Model',\n",
       "       'Avg Price', 'Total Sales Value', 'Discount Rate (%)',\n",
       "       'Discount Amount', 'Net Sales Value'],\n",
       "      dtype='object')"
      ]
     },
     "execution_count": 8,
     "metadata": {},
     "output_type": "execute_result"
    }
   ],
   "source": [
    "df.columns"
   ]
  },
  {
   "cell_type": "markdown",
   "id": "cd05cd75",
   "metadata": {},
   "source": [
    "### Descriptive Analytics for Numerical Columns"
   ]
  },
  {
   "cell_type": "code",
   "execution_count": 9,
   "id": "745cf233",
   "metadata": {},
   "outputs": [
    {
     "name": "stdout",
     "output_type": "stream",
     "text": [
      "Volume mean 5.066666666666666 \n",
      "Volume mode 0    3\n",
      "Name: Volume, dtype: int64 \n",
      "volume median 4.0 \n",
      "volume std deviation 4.231602391213924\n"
     ]
    }
   ],
   "source": [
    "import statistics\n",
    "# Descriptive analysis for Volume\n",
    "volume_mean = df[\"Volume\"].mean()\n",
    "volume_mode = df[\"Volume\"].mode()\n",
    "volume_median = df[\"Volume\"].median()\n",
    "volume_std = statistics.stdev(df[\"Volume\"])\n",
    "print(\"Volume mean\",volume_mean ,\"\\nVolume mode\" , volume_mode,\"\\nvolume median\",volume_median\n",
    "     ,\"\\nvolume std deviation\", volume_std)"
   ]
  },
  {
   "cell_type": "markdown",
   "id": "a4ece809",
   "metadata": {},
   "source": [
    " 1. Volume\n",
    "Mean = 5.07, Median = 4, Mode = 3, Std Dev = 4.23\n",
    "\n",
    "Min = 1, Max = 31\n",
    "\n",
    "Interpretation:\n",
    "Most sales involve small quantities, typically 3 to 4 units. The mean is higher than the median and mode, suggesting a right-skewed distribution — a few large-volume transactions are pulling the average up."
   ]
  },
  {
   "cell_type": "code",
   "execution_count": 10,
   "id": "59244010",
   "metadata": {},
   "outputs": [
    {
     "name": "stdout",
     "output_type": "stream",
     "text": [
      "Avg Price mean 10453.433333333332 \n",
      "Avg Price mode 0     400\n",
      "1     450\n",
      "2     500\n",
      "3    1300\n",
      "4    8100\n",
      "Name: Avg Price, dtype: int64 \n",
      "Avg Price median 1450.0 \n",
      "Avg Price std deviation 18079.90483993647\n"
     ]
    }
   ],
   "source": [
    "# Descriptive analysis for Avg Price\n",
    "\n",
    "avg_price_mean = df[\"Avg Price\"].mean()\n",
    "avg_price_mode = df[\"Avg Price\"].mode()\n",
    "avg_price_median = df[\"Avg Price\"].median()\n",
    "avg_price_std = statistics.stdev(df[\"Avg Price\"])\n",
    "print(\"Avg Price mean\",avg_price_mean ,\"\\nAvg Price mode\" , avg_price_mode ,\"\\nAvg Price median\",avg_price_median\n",
    "     ,\"\\nAvg Price std deviation\", avg_price_std)"
   ]
  },
  {
   "cell_type": "markdown",
   "id": "6160c7f0",
   "metadata": {},
   "source": [
    "##Avg Price (₹)\n",
    "Mean = ₹10,453, Median = ₹1,450, Mode = ₹400, Std Dev = ₹18,079\n",
    "\n",
    "Min = ₹290, Max = ₹60,100\n",
    "\n",
    "Interpretation:\n",
    "Most products are low-priced, but a few very high-priced items significantly raise the mean. The large gap between the mean and median, and the huge standard deviation, confirm strong positive skewness and high variability in product pricing."
   ]
  },
  {
   "cell_type": "code",
   "execution_count": 11,
   "id": "ab55811a",
   "metadata": {},
   "outputs": [
    {
     "name": "stdout",
     "output_type": "stream",
     "text": [
      "Total Sales Value mean 33812.83555555555 \n",
      "Total Sales Value mode 0    24300\n",
      "Name: Total Sales Value, dtype: int64 \n",
      "Total Sales Value median 5700.0 \n",
      "Total Sales Valuestd deviation 50535.07417255325\n"
     ]
    }
   ],
   "source": [
    "# Descriptive analysis for Total Sales Value\n",
    "\n",
    "total_sales_mean = df[\"Total Sales Value\"].mean()\n",
    "total_sales_mode = df[\"Total Sales Value\"].mode()\n",
    "total_sales_median = df[\"Total Sales Value\"].median()\n",
    "total_sales_std = statistics.stdev(df[\"Total Sales Value\"])\n",
    "print(\"Total Sales Value mean\",total_sales_mean ,\"\\nTotal Sales Value mode\" , total_sales_mode ,\"\\nTotal Sales Value median\",total_sales_median\n",
    "     ,\"\\nTotal Sales Valuestd deviation\", total_sales_std)"
   ]
  },
  {
   "cell_type": "markdown",
   "id": "10606102",
   "metadata": {},
   "source": [
    "Total Sales Value (₹)\n",
    "Mean = ₹33,813, Median = ₹5,700, Mode = ₹24,300, Std Dev = ₹50,535\n",
    "\n",
    "Min = ₹400, Max = ₹196,400\n",
    "\n",
    "Interpretation:\n",
    "Although most sales generate revenue between ₹5,000 and ₹25,000, large orders are pushing the mean much higher. The standard deviation is even higher than the mean, confirming wide spread and skewed distribution."
   ]
  },
  {
   "cell_type": "code",
   "execution_count": 12,
   "id": "a5a80b2b",
   "metadata": {},
   "outputs": [
    {
     "name": "stdout",
     "output_type": "stream",
     "text": [
      "Discount Rate (%) mean 15.15524189533091 \n",
      "Discount Rate (%) median 16.57776564929597 \n",
      "Discount Rate (%) std deviation 4.220602153325509\n"
     ]
    }
   ],
   "source": [
    "# Descriptive analysis for Discount Rate (%)\n",
    "\n",
    "dis_mean = df[\"Discount Rate (%)\"].mean()\n",
    "# dis_mode = df[\"Discount Rate (%)\"].mode()\n",
    "dis_median = df[\"Discount Rate (%)\"].median()\n",
    "dis_std = statistics.stdev(df[\"Discount Rate (%)\"])\n",
    "print(\"Discount Rate (%) mean\",dis_mean ,\"\\nDiscount Rate (%) median\",dis_median\n",
    "     ,\"\\nDiscount Rate (%) std deviation\", dis_std)"
   ]
  },
  {
   "cell_type": "markdown",
   "id": "2c4dfbd1",
   "metadata": {},
   "source": [
    "Discount Rate (%)\n",
    "Mean = 15.16%, Median = 16.58%, Mode = 5.01%, Std Dev = 4.22%\n",
    "\n",
    "Min = 5.01%, Max = 19.99%\n",
    "Interpretation:\n",
    "Most products are sold with high discounts, especially between 15–20%. However, some sales consistently use a lower discount rate of 5%, as seen from the mode. The relatively low standard deviation shows controlled and structured discounting policies."
   ]
  },
  {
   "cell_type": "code",
   "execution_count": 13,
   "id": "4c977794",
   "metadata": {},
   "outputs": [
    {
     "name": "stdout",
     "output_type": "stream",
     "text": [
      "Discount Amount mean 33812.83555555555 \n",
      "Discount Amount median 5700.0 \n",
      "Discount Amount std deviation 50535.07417255325\n"
     ]
    }
   ],
   "source": [
    "# Descriptive analysis for Discount Amount\n",
    "\n",
    "dis_amt_mean = df[\"Discount Amount\"].mean()\n",
    "# dis_amt_mode = df[\"Discount Amount\"].mode()\n",
    "dis_amt_median = df[\"Discount Amount\"].median()\n",
    "dis_amt_std = statistics.stdev(df[\"Discount Amount\"])\n",
    "print(\"Discount Amount mean\",total_sales_mean ,\"\\nDiscount Amount median\",total_sales_median\n",
    "     ,\"\\nDiscount Amount std deviation\", total_sales_std)"
   ]
  },
  {
   "cell_type": "markdown",
   "id": "e98d8158",
   "metadata": {},
   "source": [
    "Discount Amount (₹)\n",
    "Mean = ₹3,346, Median = ₹989, Mode = ₹69, Std Dev = ₹4,509\n",
    "\n",
    "Min = ₹69, Max = ₹25,738\n",
    "\n",
    "Interpretation:\n",
    "Most discounts are under ₹1,000, but some very large discounts on high-ticket items inflate the mean and standard deviation. This also shows strong positive skewness."
   ]
  },
  {
   "cell_type": "code",
   "execution_count": 14,
   "id": "bbfd5ff1",
   "metadata": {},
   "outputs": [
    {
     "name": "stdout",
     "output_type": "stream",
     "text": [
      "Net sales mean 30466.336131270135 \n",
      "Net sales median 4677.788059301853 \n",
      "Net sales std deviation 46358.656624066956\n"
     ]
    }
   ],
   "source": [
    "# # Descriptive analysis for Net Sales Value\n",
    "\n",
    "net_sale_mean = df[\"Net Sales Value\"].mean()\n",
    "# net_sale_mode = df[\"Net Sales Value\"].mode()\n",
    "net_sale_median = df[\"Net Sales Value\"].median()\n",
    "net_sale_std = statistics.stdev(df[\"Net Sales Value\"])\n",
    "print(\"Net sales mean\",net_sale_mean ,\"\\nNet sales median\",net_sale_median\n",
    "     ,\"\\nNet sales std deviation\", net_sale_std)"
   ]
  },
  {
   "cell_type": "markdown",
   "id": "61054b9e",
   "metadata": {},
   "source": [
    "Net Sales Value (₹)\n",
    "Mean = ₹30,466, Median = ₹4,678, Mode = ₹327, Std Dev = ₹46,359\n",
    "\n",
    "Min = ₹327, Max = ₹179,507\n",
    "Interpretation:\n",
    "The majority of transactions yield lower revenue after discounts, but a few very large orders contribute to high total revenue. The large spread and mean >> median indicate right-skewed distribution and presence of high-value outliers.\n"
   ]
  },
  {
   "cell_type": "markdown",
   "id": "fa1284af",
   "metadata": {},
   "source": [
    "### Data Visualization"
   ]
  },
  {
   "cell_type": "code",
   "execution_count": 42,
   "id": "70c1d45d",
   "metadata": {},
   "outputs": [
    {
     "data": {
      "text/plain": [
       "Text(0, 0.5, 'Frequency')"
      ]
     },
     "execution_count": 42,
     "metadata": {},
     "output_type": "execute_result"
    },
    {
     "data": {
      "image/png": "[encoded data removed]",
      "text/plain": [
       "<Figure size 640x480 with 1 Axes>"
      ]
     },
     "metadata": {},
     "output_type": "display_data"
    }
   ],
   "source": [
    "# Histogram \n",
    "\n",
    "plt.hist(df[\"Volume\"], bins=10)\n",
    "plt.xlabel('Number of Units Sold')\n",
    "plt.ylabel('Frequency')\n"
   ]
  },
  {
   "cell_type": "markdown",
   "id": "a6937786",
   "metadata": {},
   "source": [
    "Shape: Right-skewed (positively skewed)\n",
    "\n",
    "Inference: Most transactions involve a small number of items; a few involve very high volumes (outliers)."
   ]
  },
  {
   "cell_type": "code",
   "execution_count": 43,
   "id": "f0e238f8",
   "metadata": {},
   "outputs": [
    {
     "data": {
      "text/plain": [
       "Text(0, 0.5, 'Frequency')"
      ]
     },
     "execution_count": 43,
     "metadata": {},
     "output_type": "execute_result"
    },
    {
     "data": {
      "image/png": "[encoded data removed]",
      "text/plain": [
       "<Figure size 640x480 with 1 Axes>"
      ]
     },
     "metadata": {},
     "output_type": "display_data"
    }
   ],
   "source": [
    "plt.hist(df[\"Avg Price\"], bins=10)\n",
    "plt.xlabel('Price')\n",
    "plt.ylabel('Frequency')\n"
   ]
  },
  {
   "cell_type": "markdown",
   "id": "5fd2c842",
   "metadata": {},
   "source": [
    "Shape: Highly right-skewed\n",
    "\n",
    "Inference: Majority of products are priced low; a few premium products have significantly higher prices."
   ]
  },
  {
   "cell_type": "code",
   "execution_count": 44,
   "id": "3a7961a4",
   "metadata": {},
   "outputs": [
    {
     "data": {
      "text/plain": [
       "Text(0, 0.5, 'Frequency')"
      ]
     },
     "execution_count": 44,
     "metadata": {},
     "output_type": "execute_result"
    },
    {
     "data": {
      "image/png": "[encoded data removed]",
      "text/plain": [
       "<Figure size 640x480 with 1 Axes>"
      ]
     },
     "metadata": {},
     "output_type": "display_data"
    }
   ],
   "source": [
    "plt.hist(df[\"Total Sales Value\"], bins=10)\n",
    "plt.xlabel('Sales Value Before Discount ')\n",
    "plt.ylabel('Frequency')\n"
   ]
  },
  {
   "cell_type": "markdown",
   "id": "a666a3c5",
   "metadata": {},
   "source": [
    "Shape: Strong right skew\n",
    "\n",
    "Inference: Most sales are low to medium in value; large sales (likely due to high volume and/or high price) are rare."
   ]
  },
  {
   "cell_type": "code",
   "execution_count": 45,
   "id": "1011b8e2",
   "metadata": {},
   "outputs": [
    {
     "data": {
      "text/plain": [
       "Text(0, 0.5, 'Frequency')"
      ]
     },
     "execution_count": 45,
     "metadata": {},
     "output_type": "execute_result"
    },
    {
     "data": {
      "image/png": "[encoded data removed]",
      "text/plain": [
       "<Figure size 640x480 with 1 Axes>"
      ]
     },
     "metadata": {},
     "output_type": "display_data"
    }
   ],
   "source": [
    "plt.hist(df[\"Discount Rate (%)\"], bins=10)\n",
    "plt.xlabel('Discount Rate')\n",
    "plt.ylabel('Frequency')\n",
    "\n"
   ]
  },
  {
   "cell_type": "markdown",
   "id": "60154c90",
   "metadata": {},
   "source": [
    "Shape: Fairly symmetric with slight tail on the lower side\n",
    "\n",
    "Inference: Discount rates are relatively consistent; extreme discount values are rare.\n",
    "\n"
   ]
  },
  {
   "cell_type": "code",
   "execution_count": 46,
   "id": "58eca6d5",
   "metadata": {},
   "outputs": [
    {
     "data": {
      "text/plain": [
       "Text(0, 0.5, 'Frequency')"
      ]
     },
     "execution_count": 46,
     "metadata": {},
     "output_type": "execute_result"
    },
    {
     "data": {
      "image/png": "[encoded data removed]",
      "text/plain": [
       "<Figure size 640x480 with 1 Axes>"
      ]
     },
     "metadata": {},
     "output_type": "display_data"
    }
   ],
   "source": [
    "plt.hist(df[\"Discount Amount\"], bins=10)\n",
    "plt.xlabel('Discount Amount ')\n",
    "plt.ylabel('Frequency')\n",
    "\n"
   ]
  },
  {
   "cell_type": "markdown",
   "id": "49c0333c",
   "metadata": {},
   "source": [
    "Shape: Right-skewed\n",
    "\n",
    "Inference: Most discounts are modest; large discounts occur infrequently and may coincide with high-value sales."
   ]
  },
  {
   "cell_type": "code",
   "execution_count": 47,
   "id": "4cec3285",
   "metadata": {},
   "outputs": [
    {
     "data": {
      "text/plain": [
       "Text(0, 0.5, 'Frequency')"
      ]
     },
     "execution_count": 47,
     "metadata": {},
     "output_type": "execute_result"
    },
    {
     "data": {
      "image/png": "[encoded data removed]",
      "text/plain": [
       "<Figure size 640x480 with 1 Axes>"
      ]
     },
     "metadata": {},
     "output_type": "display_data"
    }
   ],
   "source": [
    "plt.hist(df[\"Net Sales Value\"], bins=10)\n",
    "plt.xlabel('Sales Value After Discount')\n",
    "plt.ylabel('Frequency')\n"
   ]
  },
  {
   "cell_type": "markdown",
   "id": "e0bde277",
   "metadata": {},
   "source": [
    "Shape: Similar to Total Sales Value — right-skewed\n",
    "\n",
    "Inference: Reflects similar patterns — few large transactions drive higher net sales."
   ]
  },
  {
   "cell_type": "code",
   "execution_count": 21,
   "id": "786f38ee",
   "metadata": {},
   "outputs": [
    {
     "data": {
      "image/png": "[encoded data removed]",
      "text/plain": [
       "<Figure size 640x480 with 1 Axes>"
      ]
     },
     "metadata": {},
     "output_type": "display_data"
    }
   ],
   "source": [
    "# box plot\n",
    "\n",
    "plt.boxplot(df[\"Volume\"])\n",
    "plt.xlabel('Volume')\n",
    "plt.ylabel('Frequency')\n",
    "plt.title('Boxplot of Data')\n",
    "plt.show()\n"
   ]
  },
  {
   "cell_type": "markdown",
   "id": "eead8c5a",
   "metadata": {},
   "source": [
    "Outliers: A few transactions include a very high number of items.\n",
    "\n",
    "IQR: Narrow, suggesting that most transactions involve 3 to 6 items.\n",
    "\n",
    "Finding: The few high-volume orders might represent bulk purchases or unusual buying behavior."
   ]
  },
  {
   "cell_type": "code",
   "execution_count": 22,
   "id": "082101fa",
   "metadata": {},
   "outputs": [
    {
     "data": {
      "image/png": "[encoded data removed]",
      "text/plain": [
       "<Figure size 640x480 with 1 Axes>"
      ]
     },
     "metadata": {},
     "output_type": "display_data"
    }
   ],
   "source": [
    "plt.boxplot(df[\"Avg Price\"])\n",
    "plt.xlabel('average price')\n",
    "plt.ylabel('Frequency')\n",
    "plt.title('Boxplot of Data')\n",
    "plt.show()"
   ]
  },
  {
   "cell_type": "markdown",
   "id": "dadf3346",
   "metadata": {},
   "source": [
    "Outliers: Strong presence of upper outliers — indicates high-priced products.\n",
    "\n",
    "IQR: Large spread, suggesting diverse product pricing.\n",
    "\n",
    "Finding: While most prices are relatively low, there is a significant tail of high-priced items, possibly premium products or mispriced entries."
   ]
  },
  {
   "cell_type": "code",
   "execution_count": 23,
   "id": "15bc3090",
   "metadata": {},
   "outputs": [
    {
     "data": {
      "image/png": "[encoded data removed]",
      "text/plain": [
       "<Figure size 640x480 with 1 Axes>"
      ]
     },
     "metadata": {},
     "output_type": "display_data"
    }
   ],
   "source": [
    "plt.boxplot(df[\"Total Sales Value\"])\n",
    "plt.xlabel('Total Sales Value')\n",
    "plt.ylabel('Frequency')\n",
    "plt.title('Boxplot of Data')\n",
    "plt.show()"
   ]
  },
  {
   "cell_type": "markdown",
   "id": "bf9224ae",
   "metadata": {},
   "source": [
    "Outliers:A few very large sales are far higher than the rest\n",
    "\n",
    "IQR: Wide, reflecting large variability in transaction values.\n",
    "\n",
    "Finding: Total sales are heavily influenced by a few large transactions. This aligns with the right-skewed distribution seen in the histogram.\n",
    "\n"
   ]
  },
  {
   "cell_type": "code",
   "execution_count": 24,
   "id": "ef7c7255",
   "metadata": {},
   "outputs": [
    {
     "data": {
      "image/png": "[encoded data removed]",
      "text/plain": [
       "<Figure size 640x480 with 1 Axes>"
      ]
     },
     "metadata": {},
     "output_type": "display_data"
    }
   ],
   "source": [
    "plt.boxplot(df[\"Discount Rate (%)\"])\n",
    "plt.xlabel('Discount Rate')\n",
    "plt.ylabel('Frequency')\n",
    "plt.title('Boxplot of Data')\n",
    "plt.show()\n"
   ]
  },
  {
   "cell_type": "markdown",
   "id": "04ef035a",
   "metadata": {},
   "source": [
    "Outliers: Very few or none.\n",
    "\n",
    "Finding: Discounting practices are fairly consistent, with most transactions falling within a standard promotional range."
   ]
  },
  {
   "cell_type": "code",
   "execution_count": 25,
   "id": "4f947687",
   "metadata": {},
   "outputs": [
    {
     "data": {
      "image/png": "[encoded data removed]",
      "text/plain": [
       "<Figure size 640x480 with 1 Axes>"
      ]
     },
     "metadata": {},
     "output_type": "display_data"
    }
   ],
   "source": [
    "plt.boxplot(df[\"Discount Amount\"])\n",
    "plt.xlabel('Discount Amount')\n",
    "plt.ylabel('Frequency')\n",
    "plt.title('Boxplot of Data')\n",
    "plt.show()"
   ]
  },
  {
   "cell_type": "markdown",
   "id": "090a51d4",
   "metadata": {},
   "source": [
    "Outliers: Present on the high side.\n",
    "\n",
    "IQR: Moderate, but extends toward high-value discounts.\n",
    "\n",
    "Finding: Discount amount correlates with total sales value — high-value transactions often receive proportionally larger discounts."
   ]
  },
  {
   "cell_type": "code",
   "execution_count": 26,
   "id": "375f5ef0",
   "metadata": {},
   "outputs": [
    {
     "data": {
      "image/png": "[encoded data removed]",
      "text/plain": [
       "<Figure size 640x480 with 1 Axes>"
      ]
     },
     "metadata": {},
     "output_type": "display_data"
    }
   ],
   "source": [
    "plt.boxplot(df[\"Net Sales Value\"])\n",
    "plt.xlabel('Net Sales Value')\n",
    "plt.ylabel('Frequency')\n",
    "plt.title('Boxplot of Data')\n",
    "plt.show()"
   ]
  },
  {
   "cell_type": "markdown",
   "id": "afe17b7f",
   "metadata": {},
   "source": [
    "Outliers: Similar to Total Sales Value — many high-end outliers.\n",
    "\n",
    "IQR: Wide, matching the variability in gross sales and discounts.\n",
    "\n",
    "Finding: A small number of transactions account for disproportionately high net sales, important for identifying key accounts or products.\n",
    "\n"
   ]
  },
  {
   "cell_type": "code",
   "execution_count": 27,
   "id": "8d00cfe3",
   "metadata": {},
   "outputs": [
    {
     "name": "stdout",
     "output_type": "stream",
     "text": [
      "<class 'pandas.core.frame.DataFrame'>\n",
      "RangeIndex: 450 entries, 0 to 449\n",
      "Data columns (total 13 columns):\n",
      " #   Column             Non-Null Count  Dtype  \n",
      "---  ------             --------------  -----  \n",
      " 0   Date               450 non-null    object \n",
      " 1   Day                450 non-null    object \n",
      " 2   SKU                450 non-null    object \n",
      " 3   City               450 non-null    object \n",
      " 4   Volume             450 non-null    int64  \n",
      " 5   BU                 450 non-null    object \n",
      " 6   Brand              450 non-null    object \n",
      " 7   Model              450 non-null    object \n",
      " 8   Avg Price          450 non-null    int64  \n",
      " 9   Total Sales Value  450 non-null    int64  \n",
      " 10  Discount Rate (%)  450 non-null    float64\n",
      " 11  Discount Amount    450 non-null    float64\n",
      " 12  Net Sales Value    450 non-null    float64\n",
      "dtypes: float64(3), int64(3), object(7)\n",
      "memory usage: 45.8+ KB\n"
     ]
    },
    {
     "data": {
      "text/html": [
       "<div>\n",
       "<style scoped>\n",
       "    .dataframe tbody tr th:only-of-type {\n",
       "        vertical-align: middle;\n",
       "    }\n",
       "\n",
       "    .dataframe tbody tr th {\n",
       "        vertical-align: top;\n",
       "    }\n",
       "\n",
       "    .dataframe thead th {\n",
       "        text-align: right;\n",
       "    }\n",
       "</style>\n",
       "<table border=\"1\" class=\"dataframe\">\n",
       "  <thead>\n",
       "    <tr style=\"text-align: right;\">\n",
       "      <th></th>\n",
       "      <th>Date</th>\n",
       "      <th>Day</th>\n",
       "      <th>SKU</th>\n",
       "      <th>City</th>\n",
       "      <th>Volume</th>\n",
       "      <th>BU</th>\n",
       "      <th>Brand</th>\n",
       "      <th>Model</th>\n",
       "      <th>Avg Price</th>\n",
       "      <th>Total Sales Value</th>\n",
       "      <th>Discount Rate (%)</th>\n",
       "      <th>Discount Amount</th>\n",
       "      <th>Net Sales Value</th>\n",
       "    </tr>\n",
       "  </thead>\n",
       "  <tbody>\n",
       "    <tr>\n",
       "      <th>0</th>\n",
       "      <td>01-04-2021</td>\n",
       "      <td>Thursday</td>\n",
       "      <td>M01</td>\n",
       "      <td>C</td>\n",
       "      <td>15</td>\n",
       "      <td>Mobiles</td>\n",
       "      <td>RealU</td>\n",
       "      <td>RU-10</td>\n",
       "      <td>12100</td>\n",
       "      <td>181500</td>\n",
       "      <td>11.654820</td>\n",
       "      <td>21153.498820</td>\n",
       "      <td>160346.501180</td>\n",
       "    </tr>\n",
       "    <tr>\n",
       "      <th>1</th>\n",
       "      <td>01-04-2021</td>\n",
       "      <td>Thursday</td>\n",
       "      <td>M02</td>\n",
       "      <td>C</td>\n",
       "      <td>10</td>\n",
       "      <td>Mobiles</td>\n",
       "      <td>RealU</td>\n",
       "      <td>RU-9 Plus</td>\n",
       "      <td>10100</td>\n",
       "      <td>101000</td>\n",
       "      <td>11.560498</td>\n",
       "      <td>11676.102961</td>\n",
       "      <td>89323.897039</td>\n",
       "    </tr>\n",
       "    <tr>\n",
       "      <th>2</th>\n",
       "      <td>01-04-2021</td>\n",
       "      <td>Thursday</td>\n",
       "      <td>M03</td>\n",
       "      <td>C</td>\n",
       "      <td>7</td>\n",
       "      <td>Mobiles</td>\n",
       "      <td>YouM</td>\n",
       "      <td>YM-99</td>\n",
       "      <td>16100</td>\n",
       "      <td>112700</td>\n",
       "      <td>9.456886</td>\n",
       "      <td>10657.910157</td>\n",
       "      <td>102042.089843</td>\n",
       "    </tr>\n",
       "    <tr>\n",
       "      <th>3</th>\n",
       "      <td>01-04-2021</td>\n",
       "      <td>Thursday</td>\n",
       "      <td>M04</td>\n",
       "      <td>C</td>\n",
       "      <td>6</td>\n",
       "      <td>Mobiles</td>\n",
       "      <td>YouM</td>\n",
       "      <td>YM-99 Plus</td>\n",
       "      <td>20100</td>\n",
       "      <td>120600</td>\n",
       "      <td>6.935385</td>\n",
       "      <td>8364.074702</td>\n",
       "      <td>112235.925298</td>\n",
       "    </tr>\n",
       "    <tr>\n",
       "      <th>4</th>\n",
       "      <td>01-04-2021</td>\n",
       "      <td>Thursday</td>\n",
       "      <td>M05</td>\n",
       "      <td>C</td>\n",
       "      <td>3</td>\n",
       "      <td>Mobiles</td>\n",
       "      <td>YouM</td>\n",
       "      <td>YM-98</td>\n",
       "      <td>8100</td>\n",
       "      <td>24300</td>\n",
       "      <td>17.995663</td>\n",
       "      <td>4372.946230</td>\n",
       "      <td>19927.053770</td>\n",
       "    </tr>\n",
       "  </tbody>\n",
       "</table>\n",
       "</div>"
      ],
      "text/plain": [
       "         Date       Day  SKU City  Volume       BU  Brand       Model  \\\n",
       "0  01-04-2021  Thursday  M01    C      15  Mobiles  RealU       RU-10   \n",
       "1  01-04-2021  Thursday  M02    C      10  Mobiles  RealU   RU-9 Plus   \n",
       "2  01-04-2021  Thursday  M03    C       7  Mobiles   YouM       YM-99   \n",
       "3  01-04-2021  Thursday  M04    C       6  Mobiles   YouM  YM-99 Plus   \n",
       "4  01-04-2021  Thursday  M05    C       3  Mobiles   YouM      YM-98    \n",
       "\n",
       "   Avg Price  Total Sales Value  Discount Rate (%)  Discount Amount  \\\n",
       "0      12100             181500          11.654820     21153.498820   \n",
       "1      10100             101000          11.560498     11676.102961   \n",
       "2      16100             112700           9.456886     10657.910157   \n",
       "3      20100             120600           6.935385      8364.074702   \n",
       "4       8100              24300          17.995663      4372.946230   \n",
       "\n",
       "   Net Sales Value  \n",
       "0    160346.501180  \n",
       "1     89323.897039  \n",
       "2    102042.089843  \n",
       "3    112235.925298  \n",
       "4     19927.053770  "
      ]
     },
     "execution_count": 27,
     "metadata": {},
     "output_type": "execute_result"
    }
   ],
   "source": [
    "#Bar chart \n",
    "df.info()\n",
    "df.head()"
   ]
  },
  {
   "cell_type": "code",
   "execution_count": 50,
   "id": "3423a9b2",
   "metadata": {},
   "outputs": [
    {
     "data": {
      "text/plain": [
       "Text(0, 0.5, 'net sales')"
      ]
     },
     "execution_count": 50,
     "metadata": {},
     "output_type": "execute_result"
    },
    {
     "data": {
      "image/png": "[encoded data removed]",
      "text/plain": [
       "<Figure size 1500x800 with 1 Axes>"
      ]
     },
     "metadata": {},
     "output_type": "display_data"
    }
   ],
   "source": [
    "plt.figure(figsize=(15,8))\n",
    "plt.bar(df[\"Day\"], df[\"Net Sales Value\"])\n",
    "plt.xlabel(\"day\")\n",
    "plt.ylabel(\"net sales\")"
   ]
  },
  {
   "cell_type": "code",
   "execution_count": 29,
   "id": "e646a8be",
   "metadata": {},
   "outputs": [
    {
     "data": {
      "text/plain": [
       "<BarContainer object of 450 artists>"
      ]
     },
     "execution_count": 29,
     "metadata": {},
     "output_type": "execute_result"
    },
    {
     "data": {
      "image/png": "[encoded data removed]",
      "text/plain": [
       "<Figure size 600x800 with 1 Axes>"
      ]
     },
     "metadata": {},
     "output_type": "display_data"
    }
   ],
   "source": [
    "plt.figure(figsize=(6,8))\n",
    "plt.bar(df[\"City\"], df[\"Day\"],width=0.0002)"
   ]
  },
  {
   "cell_type": "code",
   "execution_count": 30,
   "id": "ef5331fc",
   "metadata": {},
   "outputs": [
    {
     "data": {
      "text/plain": [
       "Text(0, 0.5, 'net sales')"
      ]
     },
     "execution_count": 30,
     "metadata": {},
     "output_type": "execute_result"
    },
    {
     "data": {
      "image/png": "[encoded data removed]",
      "text/plain": [
       "<Figure size 600x600 with 1 Axes>"
      ]
     },
     "metadata": {},
     "output_type": "display_data"
    }
   ],
   "source": [
    "plt.figure(figsize=(6,6))\n",
    "plt.bar(df[\"BU\"], df[\"Net Sales Value\"])\n",
    "plt.xlabel(\"bu\")\n",
    "plt.ylabel(\"net sales\")"
   ]
  },
  {
   "cell_type": "code",
   "execution_count": 31,
   "id": "b615caae",
   "metadata": {},
   "outputs": [
    {
     "data": {
      "text/plain": [
       "Text(0, 0.5, 'net sales')"
      ]
     },
     "execution_count": 31,
     "metadata": {},
     "output_type": "execute_result"
    },
    {
     "data": {
      "image/png": "[encoded data removed]",
      "text/plain": [
       "<Figure size 1500x800 with 1 Axes>"
      ]
     },
     "metadata": {},
     "output_type": "display_data"
    }
   ],
   "source": [
    "plt.figure(figsize=(15,8))\n",
    "plt.bar(df[\"Brand\"], df[\"Net Sales Value\"])\n",
    "plt.xlabel(\"brand\")\n",
    "plt.ylabel(\"net sales\")"
   ]
  },
  {
   "cell_type": "code",
   "execution_count": 32,
   "id": "780c1dee",
   "metadata": {},
   "outputs": [
    {
     "data": {
      "image/png": "[encoded data removed]",
      "text/plain": [
       "<Figure size 4500x2000 with 1 Axes>"
      ]
     },
     "metadata": {},
     "output_type": "display_data"
    }
   ],
   "source": [
    "plt.figure(figsize=(45,20))\n",
    "plt.bar(df[\"Model\"], df[\"Net Sales Value\"])\n",
    "plt.show()"
   ]
  },
  {
   "cell_type": "markdown",
   "id": "0de2f834",
   "metadata": {},
   "source": [
    "## Standardization of Numerical Variables"
   ]
  },
  {
   "cell_type": "code",
   "execution_count": 33,
   "id": "d8161de2",
   "metadata": {},
   "outputs": [
    {
     "data": {
      "text/html": [
       "<div>\n",
       "<style scoped>\n",
       "    .dataframe tbody tr th:only-of-type {\n",
       "        vertical-align: middle;\n",
       "    }\n",
       "\n",
       "    .dataframe tbody tr th {\n",
       "        vertical-align: top;\n",
       "    }\n",
       "\n",
       "    .dataframe thead th {\n",
       "        text-align: right;\n",
       "    }\n",
       "</style>\n",
       "<table border=\"1\" class=\"dataframe\">\n",
       "  <thead>\n",
       "    <tr style=\"text-align: right;\">\n",
       "      <th></th>\n",
       "      <th>Date</th>\n",
       "      <th>Day</th>\n",
       "      <th>SKU</th>\n",
       "      <th>City</th>\n",
       "      <th>Volume</th>\n",
       "      <th>BU</th>\n",
       "      <th>Brand</th>\n",
       "      <th>Model</th>\n",
       "      <th>Avg Price</th>\n",
       "      <th>Total Sales Value</th>\n",
       "      <th>Discount Rate (%)</th>\n",
       "      <th>Discount Amount</th>\n",
       "      <th>Net Sales Value</th>\n",
       "    </tr>\n",
       "  </thead>\n",
       "  <tbody>\n",
       "    <tr>\n",
       "      <th>0</th>\n",
       "      <td>01-04-2021</td>\n",
       "      <td>Thursday</td>\n",
       "      <td>M01</td>\n",
       "      <td>C</td>\n",
       "      <td>15</td>\n",
       "      <td>Mobiles</td>\n",
       "      <td>RealU</td>\n",
       "      <td>RU-10</td>\n",
       "      <td>12100</td>\n",
       "      <td>181500</td>\n",
       "      <td>11.654820</td>\n",
       "      <td>21153.498820</td>\n",
       "      <td>160346.501180</td>\n",
       "    </tr>\n",
       "    <tr>\n",
       "      <th>1</th>\n",
       "      <td>01-04-2021</td>\n",
       "      <td>Thursday</td>\n",
       "      <td>M02</td>\n",
       "      <td>C</td>\n",
       "      <td>10</td>\n",
       "      <td>Mobiles</td>\n",
       "      <td>RealU</td>\n",
       "      <td>RU-9 Plus</td>\n",
       "      <td>10100</td>\n",
       "      <td>101000</td>\n",
       "      <td>11.560498</td>\n",
       "      <td>11676.102961</td>\n",
       "      <td>89323.897039</td>\n",
       "    </tr>\n",
       "    <tr>\n",
       "      <th>2</th>\n",
       "      <td>01-04-2021</td>\n",
       "      <td>Thursday</td>\n",
       "      <td>M03</td>\n",
       "      <td>C</td>\n",
       "      <td>7</td>\n",
       "      <td>Mobiles</td>\n",
       "      <td>YouM</td>\n",
       "      <td>YM-99</td>\n",
       "      <td>16100</td>\n",
       "      <td>112700</td>\n",
       "      <td>9.456886</td>\n",
       "      <td>10657.910157</td>\n",
       "      <td>102042.089843</td>\n",
       "    </tr>\n",
       "    <tr>\n",
       "      <th>3</th>\n",
       "      <td>01-04-2021</td>\n",
       "      <td>Thursday</td>\n",
       "      <td>M04</td>\n",
       "      <td>C</td>\n",
       "      <td>6</td>\n",
       "      <td>Mobiles</td>\n",
       "      <td>YouM</td>\n",
       "      <td>YM-99 Plus</td>\n",
       "      <td>20100</td>\n",
       "      <td>120600</td>\n",
       "      <td>6.935385</td>\n",
       "      <td>8364.074702</td>\n",
       "      <td>112235.925298</td>\n",
       "    </tr>\n",
       "    <tr>\n",
       "      <th>4</th>\n",
       "      <td>01-04-2021</td>\n",
       "      <td>Thursday</td>\n",
       "      <td>M05</td>\n",
       "      <td>C</td>\n",
       "      <td>3</td>\n",
       "      <td>Mobiles</td>\n",
       "      <td>YouM</td>\n",
       "      <td>YM-98</td>\n",
       "      <td>8100</td>\n",
       "      <td>24300</td>\n",
       "      <td>17.995663</td>\n",
       "      <td>4372.946230</td>\n",
       "      <td>19927.053770</td>\n",
       "    </tr>\n",
       "  </tbody>\n",
       "</table>\n",
       "</div>"
      ],
      "text/plain": [
       "         Date       Day  SKU City  Volume       BU  Brand       Model  \\\n",
       "0  01-04-2021  Thursday  M01    C      15  Mobiles  RealU       RU-10   \n",
       "1  01-04-2021  Thursday  M02    C      10  Mobiles  RealU   RU-9 Plus   \n",
       "2  01-04-2021  Thursday  M03    C       7  Mobiles   YouM       YM-99   \n",
       "3  01-04-2021  Thursday  M04    C       6  Mobiles   YouM  YM-99 Plus   \n",
       "4  01-04-2021  Thursday  M05    C       3  Mobiles   YouM      YM-98    \n",
       "\n",
       "   Avg Price  Total Sales Value  Discount Rate (%)  Discount Amount  \\\n",
       "0      12100             181500          11.654820     21153.498820   \n",
       "1      10100             101000          11.560498     11676.102961   \n",
       "2      16100             112700           9.456886     10657.910157   \n",
       "3      20100             120600           6.935385      8364.074702   \n",
       "4       8100              24300          17.995663      4372.946230   \n",
       "\n",
       "   Net Sales Value  \n",
       "0    160346.501180  \n",
       "1     89323.897039  \n",
       "2    102042.089843  \n",
       "3    112235.925298  \n",
       "4     19927.053770  "
      ]
     },
     "execution_count": 33,
     "metadata": {},
     "output_type": "execute_result"
    }
   ],
   "source": [
    "df.head(5)"
   ]
  },
  {
   "cell_type": "markdown",
   "id": "facf5409",
   "metadata": {},
   "source": [
    "Standardization is a preprocessing technique used to transform numerical data so that it has a mean of 0 and a standard deviation of 1. This is particularly useful when the data contains variables that are on different scales, which can negatively affect the performance of many machine learning algorithms."
   ]
  },
  {
   "cell_type": "code",
   "execution_count": 34,
   "id": "934ab843",
   "metadata": {},
   "outputs": [],
   "source": [
    "df2 = df.copy() #using the formula z=x-mu/sigma\n",
    "df2['Volume'] = (df['Volume'] - df['Volume'].mean()) / df['Volume'].std()\n",
    "df2['Avg Price'] = (df['Avg Price'] - df['Avg Price'].mean()) / df['Avg Price'].std()\n",
    "df2['Total Sales Value'] = (df['Total Sales Value'] - df['Total Sales Value'].mean()) / df['Total Sales Value'].std()\n",
    "df2['Discount Rate (%)'] = (df['Discount Rate (%)'] - df['Discount Rate (%)'].mean()) / df['Discount Rate (%)'].std()\n",
    "df2['Discount Amount'] = (df['Discount Amount'] - df['Discount Amount'].mean()) / df['Discount Amount'].std()\n",
    "df2['Net Sales Value'] = (df['Net Sales Value'] - df['Net Sales Value'].mean()) / df['Net Sales Value'].std()\n"
   ]
  },
  {
   "cell_type": "code",
   "execution_count": 35,
   "id": "40132891",
   "metadata": {},
   "outputs": [
    {
     "data": {
      "text/html": [
       "<div>\n",
       "<style scoped>\n",
       "    .dataframe tbody tr th:only-of-type {\n",
       "        vertical-align: middle;\n",
       "    }\n",
       "\n",
       "    .dataframe tbody tr th {\n",
       "        vertical-align: top;\n",
       "    }\n",
       "\n",
       "    .dataframe thead th {\n",
       "        text-align: right;\n",
       "    }\n",
       "</style>\n",
       "<table border=\"1\" class=\"dataframe\">\n",
       "  <thead>\n",
       "    <tr style=\"text-align: right;\">\n",
       "      <th></th>\n",
       "      <th>Date</th>\n",
       "      <th>Day</th>\n",
       "      <th>SKU</th>\n",
       "      <th>City</th>\n",
       "      <th>Volume</th>\n",
       "      <th>BU</th>\n",
       "      <th>Brand</th>\n",
       "      <th>Model</th>\n",
       "      <th>Avg Price</th>\n",
       "      <th>Total Sales Value</th>\n",
       "      <th>Discount Rate (%)</th>\n",
       "      <th>Discount Amount</th>\n",
       "      <th>Net Sales Value</th>\n",
       "    </tr>\n",
       "  </thead>\n",
       "  <tbody>\n",
       "    <tr>\n",
       "      <th>0</th>\n",
       "      <td>01-04-2021</td>\n",
       "      <td>Thursday</td>\n",
       "      <td>M01</td>\n",
       "      <td>C</td>\n",
       "      <td>15</td>\n",
       "      <td>Mobiles</td>\n",
       "      <td>RealU</td>\n",
       "      <td>RU-10</td>\n",
       "      <td>12100</td>\n",
       "      <td>181500</td>\n",
       "      <td>11.654820</td>\n",
       "      <td>21153.498820</td>\n",
       "      <td>160346.501180</td>\n",
       "    </tr>\n",
       "    <tr>\n",
       "      <th>1</th>\n",
       "      <td>01-04-2021</td>\n",
       "      <td>Thursday</td>\n",
       "      <td>M02</td>\n",
       "      <td>C</td>\n",
       "      <td>10</td>\n",
       "      <td>Mobiles</td>\n",
       "      <td>RealU</td>\n",
       "      <td>RU-9 Plus</td>\n",
       "      <td>10100</td>\n",
       "      <td>101000</td>\n",
       "      <td>11.560498</td>\n",
       "      <td>11676.102961</td>\n",
       "      <td>89323.897039</td>\n",
       "    </tr>\n",
       "    <tr>\n",
       "      <th>2</th>\n",
       "      <td>01-04-2021</td>\n",
       "      <td>Thursday</td>\n",
       "      <td>M03</td>\n",
       "      <td>C</td>\n",
       "      <td>7</td>\n",
       "      <td>Mobiles</td>\n",
       "      <td>YouM</td>\n",
       "      <td>YM-99</td>\n",
       "      <td>16100</td>\n",
       "      <td>112700</td>\n",
       "      <td>9.456886</td>\n",
       "      <td>10657.910157</td>\n",
       "      <td>102042.089843</td>\n",
       "    </tr>\n",
       "    <tr>\n",
       "      <th>3</th>\n",
       "      <td>01-04-2021</td>\n",
       "      <td>Thursday</td>\n",
       "      <td>M04</td>\n",
       "      <td>C</td>\n",
       "      <td>6</td>\n",
       "      <td>Mobiles</td>\n",
       "      <td>YouM</td>\n",
       "      <td>YM-99 Plus</td>\n",
       "      <td>20100</td>\n",
       "      <td>120600</td>\n",
       "      <td>6.935385</td>\n",
       "      <td>8364.074702</td>\n",
       "      <td>112235.925298</td>\n",
       "    </tr>\n",
       "    <tr>\n",
       "      <th>4</th>\n",
       "      <td>01-04-2021</td>\n",
       "      <td>Thursday</td>\n",
       "      <td>M05</td>\n",
       "      <td>C</td>\n",
       "      <td>3</td>\n",
       "      <td>Mobiles</td>\n",
       "      <td>YouM</td>\n",
       "      <td>YM-98</td>\n",
       "      <td>8100</td>\n",
       "      <td>24300</td>\n",
       "      <td>17.995663</td>\n",
       "      <td>4372.946230</td>\n",
       "      <td>19927.053770</td>\n",
       "    </tr>\n",
       "  </tbody>\n",
       "</table>\n",
       "</div>"
      ],
      "text/plain": [
       "         Date       Day  SKU City  Volume       BU  Brand       Model  \\\n",
       "0  01-04-2021  Thursday  M01    C      15  Mobiles  RealU       RU-10   \n",
       "1  01-04-2021  Thursday  M02    C      10  Mobiles  RealU   RU-9 Plus   \n",
       "2  01-04-2021  Thursday  M03    C       7  Mobiles   YouM       YM-99   \n",
       "3  01-04-2021  Thursday  M04    C       6  Mobiles   YouM  YM-99 Plus   \n",
       "4  01-04-2021  Thursday  M05    C       3  Mobiles   YouM      YM-98    \n",
       "\n",
       "   Avg Price  Total Sales Value  Discount Rate (%)  Discount Amount  \\\n",
       "0      12100             181500          11.654820     21153.498820   \n",
       "1      10100             101000          11.560498     11676.102961   \n",
       "2      16100             112700           9.456886     10657.910157   \n",
       "3      20100             120600           6.935385      8364.074702   \n",
       "4       8100              24300          17.995663      4372.946230   \n",
       "\n",
       "   Net Sales Value  \n",
       "0    160346.501180  \n",
       "1     89323.897039  \n",
       "2    102042.089843  \n",
       "3    112235.925298  \n",
       "4     19927.053770  "
      ]
     },
     "execution_count": 35,
     "metadata": {},
     "output_type": "execute_result"
    }
   ],
   "source": [
    "df.head()"
   ]
  },
  {
   "cell_type": "code",
   "execution_count": 36,
   "id": "57fbfbf8",
   "metadata": {},
   "outputs": [
    {
     "data": {
      "text/html": [
       "<div>\n",
       "<style scoped>\n",
       "    .dataframe tbody tr th:only-of-type {\n",
       "        vertical-align: middle;\n",
       "    }\n",
       "\n",
       "    .dataframe tbody tr th {\n",
       "        vertical-align: top;\n",
       "    }\n",
       "\n",
       "    .dataframe thead th {\n",
       "        text-align: right;\n",
       "    }\n",
       "</style>\n",
       "<table border=\"1\" class=\"dataframe\">\n",
       "  <thead>\n",
       "    <tr style=\"text-align: right;\">\n",
       "      <th></th>\n",
       "      <th>Date</th>\n",
       "      <th>Day</th>\n",
       "      <th>SKU</th>\n",
       "      <th>City</th>\n",
       "      <th>Volume</th>\n",
       "      <th>BU</th>\n",
       "      <th>Brand</th>\n",
       "      <th>Model</th>\n",
       "      <th>Avg Price</th>\n",
       "      <th>Total Sales Value</th>\n",
       "      <th>Discount Rate (%)</th>\n",
       "      <th>Discount Amount</th>\n",
       "      <th>Net Sales Value</th>\n",
       "    </tr>\n",
       "  </thead>\n",
       "  <tbody>\n",
       "    <tr>\n",
       "      <th>0</th>\n",
       "      <td>01-04-2021</td>\n",
       "      <td>Thursday</td>\n",
       "      <td>M01</td>\n",
       "      <td>C</td>\n",
       "      <td>2.347417</td>\n",
       "      <td>Mobiles</td>\n",
       "      <td>RealU</td>\n",
       "      <td>RU-10</td>\n",
       "      <td>0.091072</td>\n",
       "      <td>2.922469</td>\n",
       "      <td>-0.829365</td>\n",
       "      <td>3.948422</td>\n",
       "      <td>2.801638</td>\n",
       "    </tr>\n",
       "    <tr>\n",
       "      <th>1</th>\n",
       "      <td>01-04-2021</td>\n",
       "      <td>Thursday</td>\n",
       "      <td>M02</td>\n",
       "      <td>C</td>\n",
       "      <td>1.165831</td>\n",
       "      <td>Mobiles</td>\n",
       "      <td>RealU</td>\n",
       "      <td>RU-9 Plus</td>\n",
       "      <td>-0.019548</td>\n",
       "      <td>1.329516</td>\n",
       "      <td>-0.851714</td>\n",
       "      <td>1.846958</td>\n",
       "      <td>1.269613</td>\n",
       "    </tr>\n",
       "    <tr>\n",
       "      <th>2</th>\n",
       "      <td>01-04-2021</td>\n",
       "      <td>Thursday</td>\n",
       "      <td>M03</td>\n",
       "      <td>C</td>\n",
       "      <td>0.456880</td>\n",
       "      <td>Mobiles</td>\n",
       "      <td>YouM</td>\n",
       "      <td>YM-99</td>\n",
       "      <td>0.312312</td>\n",
       "      <td>1.561038</td>\n",
       "      <td>-1.350129</td>\n",
       "      <td>1.621190</td>\n",
       "      <td>1.543957</td>\n",
       "    </tr>\n",
       "    <tr>\n",
       "      <th>3</th>\n",
       "      <td>01-04-2021</td>\n",
       "      <td>Thursday</td>\n",
       "      <td>M04</td>\n",
       "      <td>C</td>\n",
       "      <td>0.220563</td>\n",
       "      <td>Mobiles</td>\n",
       "      <td>YouM</td>\n",
       "      <td>YM-99 Plus</td>\n",
       "      <td>0.533552</td>\n",
       "      <td>1.717365</td>\n",
       "      <td>-1.947555</td>\n",
       "      <td>1.112568</td>\n",
       "      <td>1.763847</td>\n",
       "    </tr>\n",
       "    <tr>\n",
       "      <th>4</th>\n",
       "      <td>01-04-2021</td>\n",
       "      <td>Thursday</td>\n",
       "      <td>M05</td>\n",
       "      <td>C</td>\n",
       "      <td>-0.488389</td>\n",
       "      <td>Mobiles</td>\n",
       "      <td>YouM</td>\n",
       "      <td>YM-98</td>\n",
       "      <td>-0.130168</td>\n",
       "      <td>-0.188242</td>\n",
       "      <td>0.672990</td>\n",
       "      <td>0.227598</td>\n",
       "      <td>-0.227342</td>\n",
       "    </tr>\n",
       "  </tbody>\n",
       "</table>\n",
       "</div>"
      ],
      "text/plain": [
       "         Date       Day  SKU City    Volume       BU  Brand       Model  \\\n",
       "0  01-04-2021  Thursday  M01    C  2.347417  Mobiles  RealU       RU-10   \n",
       "1  01-04-2021  Thursday  M02    C  1.165831  Mobiles  RealU   RU-9 Plus   \n",
       "2  01-04-2021  Thursday  M03    C  0.456880  Mobiles   YouM       YM-99   \n",
       "3  01-04-2021  Thursday  M04    C  0.220563  Mobiles   YouM  YM-99 Plus   \n",
       "4  01-04-2021  Thursday  M05    C -0.488389  Mobiles   YouM      YM-98    \n",
       "\n",
       "   Avg Price  Total Sales Value  Discount Rate (%)  Discount Amount  \\\n",
       "0   0.091072           2.922469          -0.829365         3.948422   \n",
       "1  -0.019548           1.329516          -0.851714         1.846958   \n",
       "2   0.312312           1.561038          -1.350129         1.621190   \n",
       "3   0.533552           1.717365          -1.947555         1.112568   \n",
       "4  -0.130168          -0.188242           0.672990         0.227598   \n",
       "\n",
       "   Net Sales Value  \n",
       "0         2.801638  \n",
       "1         1.269613  \n",
       "2         1.543957  \n",
       "3         1.763847  \n",
       "4        -0.227342  "
      ]
     },
     "execution_count": 36,
     "metadata": {},
     "output_type": "execute_result"
    }
   ],
   "source": [
    "df2.head()"
   ]
  },
  {
   "cell_type": "code",
   "execution_count": 37,
   "id": "0148803f",
   "metadata": {},
   "outputs": [
    {
     "data": {
      "text/html": [
       "<div>\n",
       "<style scoped>\n",
       "    .dataframe tbody tr th:only-of-type {\n",
       "        vertical-align: middle;\n",
       "    }\n",
       "\n",
       "    .dataframe tbody tr th {\n",
       "        vertical-align: top;\n",
       "    }\n",
       "\n",
       "    .dataframe thead th {\n",
       "        text-align: right;\n",
       "    }\n",
       "</style>\n",
       "<table border=\"1\" class=\"dataframe\">\n",
       "  <thead>\n",
       "    <tr style=\"text-align: right;\">\n",
       "      <th></th>\n",
       "      <th>Volume</th>\n",
       "      <th>Avg Price</th>\n",
       "      <th>Total Sales Value</th>\n",
       "      <th>Discount Rate (%)</th>\n",
       "      <th>Discount Amount</th>\n",
       "      <th>Net Sales Value</th>\n",
       "    </tr>\n",
       "  </thead>\n",
       "  <tbody>\n",
       "    <tr>\n",
       "      <th>count</th>\n",
       "      <td>4.500000e+02</td>\n",
       "      <td>4.500000e+02</td>\n",
       "      <td>4.500000e+02</td>\n",
       "      <td>4.500000e+02</td>\n",
       "      <td>4.500000e+02</td>\n",
       "      <td>4.500000e+02</td>\n",
       "    </tr>\n",
       "    <tr>\n",
       "      <th>mean</th>\n",
       "      <td>1.129960e-16</td>\n",
       "      <td>1.603655e-18</td>\n",
       "      <td>3.873445e-17</td>\n",
       "      <td>8.106787e-16</td>\n",
       "      <td>-5.255056e-17</td>\n",
       "      <td>9.498575e-17</td>\n",
       "    </tr>\n",
       "    <tr>\n",
       "      <th>std</th>\n",
       "      <td>1.000000e+00</td>\n",
       "      <td>1.000000e+00</td>\n",
       "      <td>1.000000e+00</td>\n",
       "      <td>1.000000e+00</td>\n",
       "      <td>1.000000e+00</td>\n",
       "      <td>1.000000e+00</td>\n",
       "    </tr>\n",
       "    <tr>\n",
       "      <th>min</th>\n",
       "      <td>-9.610229e-01</td>\n",
       "      <td>-5.621398e-01</td>\n",
       "      <td>-6.611811e-01</td>\n",
       "      <td>-2.404259e+00</td>\n",
       "      <td>-7.266945e-01</td>\n",
       "      <td>-6.501345e-01</td>\n",
       "    </tr>\n",
       "    <tr>\n",
       "      <th>25%</th>\n",
       "      <td>-4.883887e-01</td>\n",
       "      <td>-5.524605e-01</td>\n",
       "      <td>-6.156681e-01</td>\n",
       "      <td>-2.819928e-01</td>\n",
       "      <td>-6.399340e-01</td>\n",
       "      <td>-6.096839e-01</td>\n",
       "    </tr>\n",
       "    <tr>\n",
       "      <th>50%</th>\n",
       "      <td>-2.520716e-01</td>\n",
       "      <td>-4.979801e-01</td>\n",
       "      <td>-5.563034e-01</td>\n",
       "      <td>3.370428e-01</td>\n",
       "      <td>-5.227531e-01</td>\n",
       "      <td>-5.562833e-01</td>\n",
       "    </tr>\n",
       "    <tr>\n",
       "      <th>75%</th>\n",
       "      <td>2.205626e-01</td>\n",
       "      <td>-1.954841e-02</td>\n",
       "      <td>3.836378e-01</td>\n",
       "      <td>7.011977e-01</td>\n",
       "      <td>4.368156e-01</td>\n",
       "      <td>3.749370e-01</td>\n",
       "    </tr>\n",
       "    <tr>\n",
       "      <th>max</th>\n",
       "      <td>6.128490e+00</td>\n",
       "      <td>2.745953e+00</td>\n",
       "      <td>3.217313e+00</td>\n",
       "      <td>1.146084e+00</td>\n",
       "      <td>4.964968e+00</td>\n",
       "      <td>3.214958e+00</td>\n",
       "    </tr>\n",
       "  </tbody>\n",
       "</table>\n",
       "</div>"
      ],
      "text/plain": [
       "             Volume     Avg Price  Total Sales Value  Discount Rate (%)  \\\n",
       "count  4.500000e+02  4.500000e+02       4.500000e+02       4.500000e+02   \n",
       "mean   1.129960e-16  1.603655e-18       3.873445e-17       8.106787e-16   \n",
       "std    1.000000e+00  1.000000e+00       1.000000e+00       1.000000e+00   \n",
       "min   -9.610229e-01 -5.621398e-01      -6.611811e-01      -2.404259e+00   \n",
       "25%   -4.883887e-01 -5.524605e-01      -6.156681e-01      -2.819928e-01   \n",
       "50%   -2.520716e-01 -4.979801e-01      -5.563034e-01       3.370428e-01   \n",
       "75%    2.205626e-01 -1.954841e-02       3.836378e-01       7.011977e-01   \n",
       "max    6.128490e+00  2.745953e+00       3.217313e+00       1.146084e+00   \n",
       "\n",
       "       Discount Amount  Net Sales Value  \n",
       "count     4.500000e+02     4.500000e+02  \n",
       "mean     -5.255056e-17     9.498575e-17  \n",
       "std       1.000000e+00     1.000000e+00  \n",
       "min      -7.266945e-01    -6.501345e-01  \n",
       "25%      -6.399340e-01    -6.096839e-01  \n",
       "50%      -5.227531e-01    -5.562833e-01  \n",
       "75%       4.368156e-01     3.749370e-01  \n",
       "max       4.964968e+00     3.214958e+00  "
      ]
     },
     "execution_count": 37,
     "metadata": {},
     "output_type": "execute_result"
    }
   ],
   "source": [
    "df2.describe()"
   ]
  },
  {
   "cell_type": "markdown",
   "id": "f578781b",
   "metadata": {},
   "source": [
    "If we observe the before and after standardization we can see tht the values usually lies between -1 to 1.The mean and the std deviation is 0 and 1"
   ]
  },
  {
   "cell_type": "markdown",
   "id": "55803ac5",
   "metadata": {},
   "source": [
    "## Conversion of Categorical Data into Dummy Variables"
   ]
  },
  {
   "cell_type": "markdown",
   "id": "5ea73c52",
   "metadata": {},
   "source": [
    "In one hot encoding we convert the categorical value to numerical value as 0,1 . Converting categorical data into one-hot encoding also called dummy variables is an essential preprocessing step in data analysis and machine learning. Many machine learning algorithms require numerical input and cannot interpret categorical values directly. Categorical variables, such as product types, regions, or customer categories, represent labels or names rather than numeric quantities. To make these variables usable for modeling, we convert them into a numerical format."
   ]
  },
  {
   "cell_type": "code",
   "execution_count": 39,
   "id": "882cb0a7",
   "metadata": {},
   "outputs": [
    {
     "data": {
      "text/html": [
       "<div>\n",
       "<style scoped>\n",
       "    .dataframe tbody tr th:only-of-type {\n",
       "        vertical-align: middle;\n",
       "    }\n",
       "\n",
       "    .dataframe tbody tr th {\n",
       "        vertical-align: top;\n",
       "    }\n",
       "\n",
       "    .dataframe thead th {\n",
       "        text-align: right;\n",
       "    }\n",
       "</style>\n",
       "<table border=\"1\" class=\"dataframe\">\n",
       "  <thead>\n",
       "    <tr style=\"text-align: right;\">\n",
       "      <th></th>\n",
       "      <th>Date</th>\n",
       "      <th>Volume</th>\n",
       "      <th>Avg Price</th>\n",
       "      <th>Total Sales Value</th>\n",
       "      <th>Discount Rate (%)</th>\n",
       "      <th>Discount Amount</th>\n",
       "      <th>Net Sales Value</th>\n",
       "      <th>Day_Friday</th>\n",
       "      <th>Day_Monday</th>\n",
       "      <th>Day_Saturday</th>\n",
       "      <th>...</th>\n",
       "      <th>Model_Vedic Cream</th>\n",
       "      <th>Model_Vedic Oil</th>\n",
       "      <th>Model_Vedic Shampoo</th>\n",
       "      <th>Model_W-Casuals</th>\n",
       "      <th>Model_W-Inners</th>\n",
       "      <th>Model_W-Lounge</th>\n",
       "      <th>Model_W-Western</th>\n",
       "      <th>Model_YM-98</th>\n",
       "      <th>Model_YM-99</th>\n",
       "      <th>Model_YM-99 Plus</th>\n",
       "    </tr>\n",
       "  </thead>\n",
       "  <tbody>\n",
       "    <tr>\n",
       "      <th>0</th>\n",
       "      <td>01-04-2021</td>\n",
       "      <td>2.347417</td>\n",
       "      <td>0.091072</td>\n",
       "      <td>2.922469</td>\n",
       "      <td>-0.829365</td>\n",
       "      <td>3.948422</td>\n",
       "      <td>2.801638</td>\n",
       "      <td>0</td>\n",
       "      <td>0</td>\n",
       "      <td>0</td>\n",
       "      <td>...</td>\n",
       "      <td>0</td>\n",
       "      <td>0</td>\n",
       "      <td>0</td>\n",
       "      <td>0</td>\n",
       "      <td>0</td>\n",
       "      <td>0</td>\n",
       "      <td>0</td>\n",
       "      <td>0</td>\n",
       "      <td>0</td>\n",
       "      <td>0</td>\n",
       "    </tr>\n",
       "    <tr>\n",
       "      <th>1</th>\n",
       "      <td>01-04-2021</td>\n",
       "      <td>1.165831</td>\n",
       "      <td>-0.019548</td>\n",
       "      <td>1.329516</td>\n",
       "      <td>-0.851714</td>\n",
       "      <td>1.846958</td>\n",
       "      <td>1.269613</td>\n",
       "      <td>0</td>\n",
       "      <td>0</td>\n",
       "      <td>0</td>\n",
       "      <td>...</td>\n",
       "      <td>0</td>\n",
       "      <td>0</td>\n",
       "      <td>0</td>\n",
       "      <td>0</td>\n",
       "      <td>0</td>\n",
       "      <td>0</td>\n",
       "      <td>0</td>\n",
       "      <td>0</td>\n",
       "      <td>0</td>\n",
       "      <td>0</td>\n",
       "    </tr>\n",
       "    <tr>\n",
       "      <th>2</th>\n",
       "      <td>01-04-2021</td>\n",
       "      <td>0.456880</td>\n",
       "      <td>0.312312</td>\n",
       "      <td>1.561038</td>\n",
       "      <td>-1.350129</td>\n",
       "      <td>1.621190</td>\n",
       "      <td>1.543957</td>\n",
       "      <td>0</td>\n",
       "      <td>0</td>\n",
       "      <td>0</td>\n",
       "      <td>...</td>\n",
       "      <td>0</td>\n",
       "      <td>0</td>\n",
       "      <td>0</td>\n",
       "      <td>0</td>\n",
       "      <td>0</td>\n",
       "      <td>0</td>\n",
       "      <td>0</td>\n",
       "      <td>0</td>\n",
       "      <td>1</td>\n",
       "      <td>0</td>\n",
       "    </tr>\n",
       "    <tr>\n",
       "      <th>3</th>\n",
       "      <td>01-04-2021</td>\n",
       "      <td>0.220563</td>\n",
       "      <td>0.533552</td>\n",
       "      <td>1.717365</td>\n",
       "      <td>-1.947555</td>\n",
       "      <td>1.112568</td>\n",
       "      <td>1.763847</td>\n",
       "      <td>0</td>\n",
       "      <td>0</td>\n",
       "      <td>0</td>\n",
       "      <td>...</td>\n",
       "      <td>0</td>\n",
       "      <td>0</td>\n",
       "      <td>0</td>\n",
       "      <td>0</td>\n",
       "      <td>0</td>\n",
       "      <td>0</td>\n",
       "      <td>0</td>\n",
       "      <td>0</td>\n",
       "      <td>0</td>\n",
       "      <td>1</td>\n",
       "    </tr>\n",
       "    <tr>\n",
       "      <th>4</th>\n",
       "      <td>01-04-2021</td>\n",
       "      <td>-0.488389</td>\n",
       "      <td>-0.130168</td>\n",
       "      <td>-0.188242</td>\n",
       "      <td>0.672990</td>\n",
       "      <td>0.227598</td>\n",
       "      <td>-0.227342</td>\n",
       "      <td>0</td>\n",
       "      <td>0</td>\n",
       "      <td>0</td>\n",
       "      <td>...</td>\n",
       "      <td>0</td>\n",
       "      <td>0</td>\n",
       "      <td>0</td>\n",
       "      <td>0</td>\n",
       "      <td>0</td>\n",
       "      <td>0</td>\n",
       "      <td>0</td>\n",
       "      <td>1</td>\n",
       "      <td>0</td>\n",
       "      <td>0</td>\n",
       "    </tr>\n",
       "  </tbody>\n",
       "</table>\n",
       "<p>5 rows × 87 columns</p>\n",
       "</div>"
      ],
      "text/plain": [
       "         Date    Volume  Avg Price  Total Sales Value  Discount Rate (%)  \\\n",
       "0  01-04-2021  2.347417   0.091072           2.922469          -0.829365   \n",
       "1  01-04-2021  1.165831  -0.019548           1.329516          -0.851714   \n",
       "2  01-04-2021  0.456880   0.312312           1.561038          -1.350129   \n",
       "3  01-04-2021  0.220563   0.533552           1.717365          -1.947555   \n",
       "4  01-04-2021 -0.488389  -0.130168          -0.188242           0.672990   \n",
       "\n",
       "   Discount Amount  Net Sales Value  Day_Friday  Day_Monday  Day_Saturday  \\\n",
       "0         3.948422         2.801638           0           0             0   \n",
       "1         1.846958         1.269613           0           0             0   \n",
       "2         1.621190         1.543957           0           0             0   \n",
       "3         1.112568         1.763847           0           0             0   \n",
       "4         0.227598        -0.227342           0           0             0   \n",
       "\n",
       "   ...  Model_Vedic Cream  Model_Vedic Oil  Model_Vedic Shampoo  \\\n",
       "0  ...                  0                0                    0   \n",
       "1  ...                  0                0                    0   \n",
       "2  ...                  0                0                    0   \n",
       "3  ...                  0                0                    0   \n",
       "4  ...                  0                0                    0   \n",
       "\n",
       "   Model_W-Casuals  Model_W-Inners  Model_W-Lounge  Model_W-Western  \\\n",
       "0                0               0               0                0   \n",
       "1                0               0               0                0   \n",
       "2                0               0               0                0   \n",
       "3                0               0               0                0   \n",
       "4                0               0               0                0   \n",
       "\n",
       "   Model_YM-98   Model_YM-99  Model_YM-99 Plus  \n",
       "0             0            0                 0  \n",
       "1             0            0                 0  \n",
       "2             0            1                 0  \n",
       "3             0            0                 1  \n",
       "4             1            0                 0  \n",
       "\n",
       "[5 rows x 87 columns]"
      ]
     },
     "execution_count": 39,
     "metadata": {},
     "output_type": "execute_result"
    }
   ],
   "source": [
    "# creating dummy variables for columns: Day, SKU, City, BU,\tBrand, Model\n",
    "df3 = df2.copy()\n",
    "df3 = pd.get_dummies(df3, columns=['Day', 'SKU', 'City', 'BU', 'Brand', 'Model'])\n",
    "df3.head()"
   ]
  },
  {
   "cell_type": "code",
   "execution_count": 40,
   "id": "fb9d4022",
   "metadata": {},
   "outputs": [
    {
     "data": {
      "text/html": [
       "<div>\n",
       "<style scoped>\n",
       "    .dataframe tbody tr th:only-of-type {\n",
       "        vertical-align: middle;\n",
       "    }\n",
       "\n",
       "    .dataframe tbody tr th {\n",
       "        vertical-align: top;\n",
       "    }\n",
       "\n",
       "    .dataframe thead th {\n",
       "        text-align: right;\n",
       "    }\n",
       "</style>\n",
       "<table border=\"1\" class=\"dataframe\">\n",
       "  <thead>\n",
       "    <tr style=\"text-align: right;\">\n",
       "      <th></th>\n",
       "      <th>Date</th>\n",
       "      <th>Volume</th>\n",
       "      <th>Avg Price</th>\n",
       "      <th>Total Sales Value</th>\n",
       "      <th>Discount Rate (%)</th>\n",
       "      <th>Discount Amount</th>\n",
       "      <th>Net Sales Value</th>\n",
       "      <th>Day_Friday</th>\n",
       "      <th>Day_Monday</th>\n",
       "      <th>Day_Saturday</th>\n",
       "      <th>...</th>\n",
       "      <th>Model_Vedic Cream</th>\n",
       "      <th>Model_Vedic Oil</th>\n",
       "      <th>Model_Vedic Shampoo</th>\n",
       "      <th>Model_W-Casuals</th>\n",
       "      <th>Model_W-Inners</th>\n",
       "      <th>Model_W-Lounge</th>\n",
       "      <th>Model_W-Western</th>\n",
       "      <th>Model_YM-98</th>\n",
       "      <th>Model_YM-99</th>\n",
       "      <th>Model_YM-99 Plus</th>\n",
       "    </tr>\n",
       "  </thead>\n",
       "  <tbody>\n",
       "    <tr>\n",
       "      <th>0</th>\n",
       "      <td>01-04-2021</td>\n",
       "      <td>2</td>\n",
       "      <td>0</td>\n",
       "      <td>2</td>\n",
       "      <td>0</td>\n",
       "      <td>3</td>\n",
       "      <td>2</td>\n",
       "      <td>0</td>\n",
       "      <td>0</td>\n",
       "      <td>0</td>\n",
       "      <td>...</td>\n",
       "      <td>0</td>\n",
       "      <td>0</td>\n",
       "      <td>0</td>\n",
       "      <td>0</td>\n",
       "      <td>0</td>\n",
       "      <td>0</td>\n",
       "      <td>0</td>\n",
       "      <td>0</td>\n",
       "      <td>0</td>\n",
       "      <td>0</td>\n",
       "    </tr>\n",
       "    <tr>\n",
       "      <th>1</th>\n",
       "      <td>01-04-2021</td>\n",
       "      <td>1</td>\n",
       "      <td>0</td>\n",
       "      <td>1</td>\n",
       "      <td>0</td>\n",
       "      <td>1</td>\n",
       "      <td>1</td>\n",
       "      <td>0</td>\n",
       "      <td>0</td>\n",
       "      <td>0</td>\n",
       "      <td>...</td>\n",
       "      <td>0</td>\n",
       "      <td>0</td>\n",
       "      <td>0</td>\n",
       "      <td>0</td>\n",
       "      <td>0</td>\n",
       "      <td>0</td>\n",
       "      <td>0</td>\n",
       "      <td>0</td>\n",
       "      <td>0</td>\n",
       "      <td>0</td>\n",
       "    </tr>\n",
       "    <tr>\n",
       "      <th>2</th>\n",
       "      <td>01-04-2021</td>\n",
       "      <td>0</td>\n",
       "      <td>0</td>\n",
       "      <td>1</td>\n",
       "      <td>-1</td>\n",
       "      <td>1</td>\n",
       "      <td>1</td>\n",
       "      <td>0</td>\n",
       "      <td>0</td>\n",
       "      <td>0</td>\n",
       "      <td>...</td>\n",
       "      <td>0</td>\n",
       "      <td>0</td>\n",
       "      <td>0</td>\n",
       "      <td>0</td>\n",
       "      <td>0</td>\n",
       "      <td>0</td>\n",
       "      <td>0</td>\n",
       "      <td>0</td>\n",
       "      <td>1</td>\n",
       "      <td>0</td>\n",
       "    </tr>\n",
       "    <tr>\n",
       "      <th>3</th>\n",
       "      <td>01-04-2021</td>\n",
       "      <td>0</td>\n",
       "      <td>0</td>\n",
       "      <td>1</td>\n",
       "      <td>-1</td>\n",
       "      <td>1</td>\n",
       "      <td>1</td>\n",
       "      <td>0</td>\n",
       "      <td>0</td>\n",
       "      <td>0</td>\n",
       "      <td>...</td>\n",
       "      <td>0</td>\n",
       "      <td>0</td>\n",
       "      <td>0</td>\n",
       "      <td>0</td>\n",
       "      <td>0</td>\n",
       "      <td>0</td>\n",
       "      <td>0</td>\n",
       "      <td>0</td>\n",
       "      <td>0</td>\n",
       "      <td>1</td>\n",
       "    </tr>\n",
       "    <tr>\n",
       "      <th>4</th>\n",
       "      <td>01-04-2021</td>\n",
       "      <td>0</td>\n",
       "      <td>0</td>\n",
       "      <td>0</td>\n",
       "      <td>0</td>\n",
       "      <td>0</td>\n",
       "      <td>0</td>\n",
       "      <td>0</td>\n",
       "      <td>0</td>\n",
       "      <td>0</td>\n",
       "      <td>...</td>\n",
       "      <td>0</td>\n",
       "      <td>0</td>\n",
       "      <td>0</td>\n",
       "      <td>0</td>\n",
       "      <td>0</td>\n",
       "      <td>0</td>\n",
       "      <td>0</td>\n",
       "      <td>1</td>\n",
       "      <td>0</td>\n",
       "      <td>0</td>\n",
       "    </tr>\n",
       "  </tbody>\n",
       "</table>\n",
       "<p>5 rows × 87 columns</p>\n",
       "</div>"
      ],
      "text/plain": [
       "         Date  Volume  Avg Price  Total Sales Value  Discount Rate (%)  \\\n",
       "0  01-04-2021       2          0                  2                  0   \n",
       "1  01-04-2021       1          0                  1                  0   \n",
       "2  01-04-2021       0          0                  1                 -1   \n",
       "3  01-04-2021       0          0                  1                 -1   \n",
       "4  01-04-2021       0          0                  0                  0   \n",
       "\n",
       "   Discount Amount  Net Sales Value  Day_Friday  Day_Monday  Day_Saturday  \\\n",
       "0                3                2           0           0             0   \n",
       "1                1                1           0           0             0   \n",
       "2                1                1           0           0             0   \n",
       "3                1                1           0           0             0   \n",
       "4                0                0           0           0             0   \n",
       "\n",
       "   ...  Model_Vedic Cream  Model_Vedic Oil  Model_Vedic Shampoo  \\\n",
       "0  ...                  0                0                    0   \n",
       "1  ...                  0                0                    0   \n",
       "2  ...                  0                0                    0   \n",
       "3  ...                  0                0                    0   \n",
       "4  ...                  0                0                    0   \n",
       "\n",
       "   Model_W-Casuals  Model_W-Inners  Model_W-Lounge  Model_W-Western  \\\n",
       "0                0               0               0                0   \n",
       "1                0               0               0                0   \n",
       "2                0               0               0                0   \n",
       "3                0               0               0                0   \n",
       "4                0               0               0                0   \n",
       "\n",
       "   Model_YM-98   Model_YM-99  Model_YM-99 Plus  \n",
       "0             0            0                 0  \n",
       "1             0            0                 0  \n",
       "2             0            1                 0  \n",
       "3             0            0                 1  \n",
       "4             1            0                 0  \n",
       "\n",
       "[5 rows x 87 columns]"
      ]
     },
     "execution_count": 40,
     "metadata": {},
     "output_type": "execute_result"
    }
   ],
   "source": [
    "#converting float values to 1,0\n",
    "\n",
    "float_columns = df3.select_dtypes(include='float64') #select the columns whose data type is float\n",
    "df3[float_columns.columns] = float_columns.astype(int)\n",
    "\n",
    "df3.head()"
   ]
  },
  {
   "cell_type": "markdown",
   "id": "6a5f3196",
   "metadata": {},
   "source": [
    "Summarize the key findings from the descriptive analytics and data visualizations.\n",
    "\n",
    "The provided dataset has 6 numeric values which can be identified using df.info() of which\n",
    "Volume , Avg Price,Total Sales Value are int type\n",
    "Discount Rate (%),Discount Amount,Net Sales Value are float type\n",
    "\n",
    "Some of the insights that I gained from data visualization:-\n",
    "* The net sale on saturday is high compared to other days\n",
    "* net sale of mobiles is greater than FMCG and lifestyle\n",
    "* samsung has most net sale compared to other and vedic, gear has very less sale\n",
    "* The model s-20 has the highest sale "
   ]
  },
  {
   "cell_type": "markdown",
   "id": "0c2acaad",
   "metadata": {},
   "source": [
    "Reflect on the importance of data preprocessing steps like standardization and one-hot encoding in data analysis and machine learning.\n",
    "\n",
    " Data preprocessing steps such as standardization and one-hot encoding plays important role in data preparation for ML models . \n",
    " * Standardization ensures that features have consistent scales, making them easy to compare with other features\n",
    " * one-hot encoding transforms categorical data into numeric format, allowing algorithms to handle non-numeric features effectively.\n"
   ]
  },
  {
   "cell_type": "code",
   "execution_count": null,
   "id": "6d3a2b5d",
   "metadata": {},
   "outputs": [],
   "source": []
  }
 ],
 "metadata": {
  "kernelspec": {
   "display_name": "Python 3 (ipykernel)",
   "language": "python",
   "name": "python3"
  },
  "language_info": {
   "codemirror_mode": {
    "name": "ipython",
    "version": 3
   },
   "file_extension": ".py",
   "mimetype": "text/x-python",
   "name": "python",
   "nbconvert_exporter": "python",
   "pygments_lexer": "ipython3",
   "version": "3.9.13"
  }
 },
 "nbformat": 4,
 "nbformat_minor": 5
}
